{
 "cells": [
  {
   "cell_type": "markdown",
   "metadata": {},
   "source": [
    "# trixs-dl-models\n",
    "## Models\n",
    "* [A Deep-Learning model](Train_Run_DL_Models.ipynb) based on the [Random Forest model](https://github.com/TRI-AMDD/trixs/blob/Torrisi_XANES_RF_2020/notebooks/Train_Run_Models.ipynb) from a published article: \n",
    "   * [Random forest machine learning models for interpretable X-ray absorption near-edge structure spectrum-property relationships](https://www.nature.com/articles/s41524-020-00376-6)\n",
    "* Current version: DL vs RF on pointwise spectra data\n",
    "  * NN model without regularization : [Train_Run_DL_Models.ipynb](Train_Run_DL_Models.ipynb)\n",
    "  * NN model with regularization : [Train_Run_DL_Models_V2.ipynb](Train_Run_DL_Models.ipynb)\n",
    "  * CNN model:\n",
    "    * trained with original data : [Train_Run_DL_Models_CNN_originalData.ipynb](Train_Run_DL_Models_CNN_originalData.ipynb)\n",
    "    * data augmentation (average pooling): [Train_Run_DL_Models_CNN_moreData.ipynb](Train_Run_DL_Models_CNN_moreData.ipynb)\n",
    "* All scenarios:\n",
    "  \n",
    "| Status                   | Model      | Data      | Iteration/Epoch | Cross-Validation | Kernel-Size | Feature Importance | Notebook | Performance Bader | Performance MD | Performance All |\n",
    "| ------------------------ | -----------| --------- | -------------   | ---------------- | ----------- | --  | -------- | -------- | -------- | -------- |\n",
    "| :heavy_check_mark: | Random Forest    | original  | 300             | 3                | -           | Yes | [done](Train_Run_DL_Models_CNN_originalData.ipynb)| ![img](figures_feffnorm/feff_cnn_originalData_20_bader_uniparity.svg) | ![img](figures_feffnorm/feff_cnn_originalData_20_md_uniparity.svg) | ![img](figures_feffnorm/feff_cnn_originalData_20_all_perf.svg) | \n",
    "| :heavy_check_mark: | Neural Networks  | original  | 300             | 3                | -           | Yes | [done](Train_Run_DL_Models.ipynb)| \n",
    "| :heavy_check_mark: | CNN              | original  | 300             | 3                | 5           | No | [done](Train_Run_DL_Models_CNN_originalData.ipynb)|  ![img](figures_feffnorm/feff_cnn_originalData_5_bader_uniparity_nn.svg) | ![img](figures_feffnorm/feff_cnn_originalData_5_md_uniparity.svg) |  ![img](figures_feffnorm/feff_cnn_originalData_5_all_perf_nn.svg) |  \n",
    "| :heavy_check_mark: | CNN              | original  | 300             | 3                | 10          | No | [done](Train_Run_DL_Models_CNN_originalData_10.ipynb)| ![img](figures_feffnorm/feff_cnn_originalData_10_bader_uniparity_nn.svg) | ![img](figures_feffnorm/feff_cnn_originalData_10_md_uniparity_nn.svg) |  ![img](figures_feffnorm/feff_cnn_originalData_10_all_perf_nn.svg) | \n",
    "| :heavy_check_mark: | CNN              | original  | 300             | 3                | 20          | No | [done](Train_Run_DL_Models_CNN_originalData_20.ipynb)|  ![img](figures_feffnorm/feff_cnn_originalData_20_bader_uniparity_nn.svg) | ![img](figures_feffnorm/feff_cnn_originalData_20_md_uniparity_nn.svg) |  ![img](figures_feffnorm/feff_cnn_originalData_20_all_perf_nn.svg) |  \n",
    "| :heavy_check_mark: | Random Forest    | augmented | 300             | 3                | -           | Yes | [done](Train_Run_DL_Models_CNN_moreData.ipyn)| ![img](figures_feffnorm/feff_cnn_moreData_20_bader_uniparity.svg) | ![img](figures_feffnorm/feff_cnn_moreData_20_md_uniparity.svg) |  ![img](figures_feffnorm/feff_cnn_moreData_20_all_perf.svg) | \n",
    "| :heavy_check_mark: | Neural Networks  | augmented | 300             | 3                | -           | Yes | [done](Train_Run_DL_Models_moreData.ipynb)|\n",
    "| :heavy_check_mark: | CNN              | augmented | 300             | 3                | 5           | No | [done](Train_Run_DL_Models_CNN_moreData_5.ipynb)| ![img](figures_feffnorm/feff_cnn_moreData_5_bader_uniparity_nn.svg) | ![img](figures_feffnorm/feff_cnn_moreData_5_md_uniparity_nn.svg) | ![img](figures_feffnorm/feff_cnn_moreData_5_all_perf_nn.svg) | \n",
    "| :heavy_check_mark: | CNN              | augmented | 300             | 3                | 10          | No | [done](Train_Run_DL_Models_CNN_moreData_10.ipynb)| ![img](figures_feffnorm/feff_cnn_moreData_10_bader_uniparity_nn.svg) | ![img](figures_feffnorm/feff_cnn_moreData_10_md_uniparity_nn.svg) | ![img](figures_feffnorm/feff_cnn_moreData_10_all_perf_nn.svg) | \n",
    "| :heavy_check_mark: | CNN              | augmented | 300             | 3                | 20          | No | [done](Train_Run_DL_Models_CNN_moreData_20.ipynb)| ![img](figures_feffnorm/feff_cnn_moreData_20_bader_uniparity_nn.svg) | ![img](figures_feffnorm/feff_cnn_moreData_20_md_uniparity_nn.svg) | ![img](figures_feffnorm/feff_cnn_moreData_20_all_perf_nn.svg) | \n",
    "\n",
    "\n",
    "## Data:\n",
    "* training data: https://data.matr.io/4/\n",
    "\n",
    "```\n",
    "wget https://s3.amazonaws.com/publications.matr.io/4/deployment/data/xanes_2019.zip\n",
    "\n",
    "unzip xanes_2019.zip\n",
    "\n",
    "git clone https://github.com/fengchenLBL/trixs-dl-models.git\n",
    "\n",
    "cp -rf matrio_folder/spectral_data matrio_folder/model_data ./trixs-dl-models\n",
    "\n",
    "cd trixs-dl-models\n",
    "```\n",
    "\n",
    "## References:\n",
    "* [https://www.nature.com/articles/s41524-020-00376-6](https://www.nature.com/articles/s41524-020-00376-6)\n",
    "* [https://github.com/TRI-AMDD/trixs/blob/Torrisi_XANES_RF_2020/notebooks/Train_Run_Models.ipynb](https://github.com/TRI-AMDD/trixs/blob/Torrisi_XANES_RF_2020/notebooks/Train_Run_Models.ipynb)\n",
    "* [https://data.matr.io/4/](https://data.matr.io/4/)\n"
   ]
  },
  {
   "cell_type": "code",
   "execution_count": 1,
   "metadata": {},
   "outputs": [],
   "source": [
    "import os  \n",
    "import pandas as pd\n",
    "import ipywidgets as widgets\n",
    "from ipywidgets import interactive\n",
    "from IPython.display import display\n",
    "from IPython.display import SVG"
   ]
  },
  {
   "cell_type": "markdown",
   "metadata": {},
   "source": [
    "## Results"
   ]
  },
  {
   "cell_type": "code",
   "execution_count": 2,
   "metadata": {},
   "outputs": [],
   "source": [
    "### Random Forest w/ Original Dataset \n",
    "rf_df_originalData = pd.read_csv('figures_feffnorm/pointwise_table_feff_cnn_originalData_20.csv')\n",
    "rf_df_originalData_b = 'figures_feffnorm/feff_cnn_originalData_20_bader_uniparity.svg'\n",
    "rf_df_originalData_md = 'figures_feffnorm/feff_cnn_originalData_20_md_uniparity.svg'\n",
    "\n",
    "### CNN w/ Original Dataset & Kernel size 20 \n",
    "cnn_df_originalData_20 = pd.read_csv('figures_feffnorm/pointwise_table_feff_cnn_originalData_20_nn.csv')\n",
    "cnn_df_originalData_20_b = 'figures_feffnorm/feff_cnn_originalData_20_bader_uniparity_nn.svg'\n",
    "cnn_df_originalData_20_md = 'figures_feffnorm/feff_cnn_originalData_20_md_uniparity_nn.svg'\n",
    "\n",
    "### CNN w/ Original Dataset & Kernel size 10\n",
    "cnn_df_originalData_10 = pd.read_csv('figures_feffnorm/pointwise_table_feff_cnn_originalData_10_nn.csv')\n",
    "cnn_df_originalData_10_b = 'figures_feffnorm/feff_cnn_originalData_10_bader_uniparity_nn.svg'\n",
    "cnn_df_originalData_10_md = 'figures_feffnorm/feff_cnn_originalData_10_md_uniparity_nn.svg'\n",
    "\n",
    "### CNN w/ Original Dataset & Kernel size 5 \n",
    "cnn_df_originalData_5 = pd.read_csv('figures_feffnorm/pointwise_table_feff_cnn_originalData_5_nn.csv')\n",
    "cnn_df_originalData_5_b = 'figures_feffnorm/feff_cnn_originalData_5_bader_uniparity_nn.svg'\n",
    "cnn_df_originalData_5_md = 'figures_feffnorm/feff_cnn_originalData_5_md_uniparity_nn.svg'\n",
    "\n",
    "### Random Forest w/ Augmented Dataset \n",
    "rf_df_moreData = pd.read_csv('figures_feffnorm/pointwise_table_feff_cnn_moreData_20.csv')\n",
    "rf_df_moreData_b = 'figures_feffnorm/feff_cnn_moreData_20_bader_uniparity.svg'\n",
    "rf_df_moreData_md = 'figures_feffnorm/feff_cnn_moreData_20_md_uniparity.svg'\n",
    "\n",
    "### CNN w/ Augmented Dataset & Kernel size 20 \n",
    "cnn_df_moreData_20 = pd.read_csv('figures_feffnorm/pointwise_table_feff_cnn_moreData_20_nn.csv')\n",
    "cnn_df_moreData_20_b = 'figures_feffnorm/feff_cnn_moreData_20_bader_uniparity_nn.svg'\n",
    "cnn_df_moreData_20_md = 'figures_feffnorm/feff_cnn_moreData_20_md_uniparity_nn.svg'\n",
    "\n",
    "### CNN w/ Augmented Dataset & Kernel size 10\n",
    "cnn_df_moreData_10 = pd.read_csv('figures_feffnorm/pointwise_table_feff_cnn_moreData_10_nn.csv')\n",
    "cnn_df_moreData_10_b = 'figures_feffnorm/feff_cnn_moreData_10_bader_uniparity_nn.svg'\n",
    "cnn_df_moreData_10_md = 'figures_feffnorm/feff_cnn_moreData_10_md_uniparity_nn.svg'\n",
    "\n",
    "### CNN w/ Augmented Dataset & Kernel size 5 \n",
    "cnn_df_moreData_5 = pd.read_csv('figures_feffnorm/pointwise_table_feff_cnn_moreData_5_nn.csv')\n",
    "cnn_df_moreData_5_b = 'figures_feffnorm/feff_cnn_moreData_5_bader_uniparity_nn.svg'\n",
    "cnn_df_moreData_5_md = 'figures_feffnorm/feff_cnn_moreData_5_md_uniparity_nn.svg'"
   ]
  },
  {
   "cell_type": "code",
   "execution_count": 3,
   "metadata": {},
   "outputs": [],
   "source": [
    "### Dropdown List to show performance tables\n",
    "dfs1 = {'Random Forest: Original': rf_df_originalData,\n",
    "       'CNN: Original & Kernel 5': cnn_df_originalData_5, \n",
    "       'CNN: Original & Kernel 10': cnn_df_originalData_10,\n",
    "       'CNN: Original & Kernel 20': cnn_df_originalData_20\n",
    "      }\n",
    "\n",
    "\n",
    "dfs2 = {\n",
    "       'Random Forest: Augmented': rf_df_moreData,\n",
    "       'CNN: Augmented & Kernel 5': cnn_df_moreData_5, \n",
    "       'CNN: Augmented & Kernel 10': cnn_df_moreData_10,\n",
    "       'CNN: Augmented & Kernel 20': cnn_df_moreData_20\n",
    "      }\n",
    "\n",
    "items1 = list(dfs1.keys())\n",
    "items1.extend(list(dfs2.keys()))\n",
    "items2 = list(dfs2.keys())\n",
    "items2.extend(list(dfs1.keys()))\n",
    "\n",
    "dfs1.update(dfs2)\n",
    "\n",
    "def view1(table=''):\n",
    "    if table=='': table=items1[0]\n",
    "    return(display(dfs1[table]))\n",
    "\n",
    "def view2(table=''):\n",
    "    if table=='': \n",
    "        table=items2[0]\n",
    "    return(display(dfs1[table]))\n",
    " \n",
    "w1 = widgets.Dropdown(options=items1)\n",
    "w2 = widgets.Dropdown(options=items2)\n",
    "\n",
    "\n",
    "fig_dfs = {'RF: Original b': rf_df_originalData_b,\n",
    "           'RF: Original md': rf_df_originalData_md,\n",
    "           'CNN: Original & Kernel 5 b': cnn_df_originalData_5_b,\n",
    "           'CNN: Original & Kernel 5 md': cnn_df_originalData_5_md,\n",
    "           'CNN: Original & Kernel 10 b': cnn_df_originalData_10_b,\n",
    "           'CNN: Original & Kernel 10 md': cnn_df_originalData_10_md,\n",
    "           'CNN: Original & Kernel 20 b': cnn_df_originalData_20_b,\n",
    "           'CNN: Original & Kernel 20 md': cnn_df_originalData_20_md,\n",
    "           'RF: Augmented b': rf_df_moreData_b,\n",
    "           'RF: Augmented md': rf_df_moreData_md,\n",
    "           'CNN: Augmented & Kernel 5 b': cnn_df_moreData_5_b,\n",
    "           'CNN: Augmented & Kernel 5 md': cnn_df_moreData_5_md,\n",
    "           'CNN: Augmented & Kernel 10 b': cnn_df_moreData_10_b,\n",
    "           'CNN: Augmented & Kernel 10 md': cnn_df_moreData_10_md,\n",
    "           'CNN: Augmented & Kernel 20 b': cnn_df_moreData_20_b,\n",
    "           'CNN: Augmented & Kernel 20 md': cnn_df_moreData_20_md\n",
    "          }"
   ]
  },
  {
   "cell_type": "markdown",
   "metadata": {},
   "source": [
    "## Original Dataset"
   ]
  },
  {
   "cell_type": "code",
   "execution_count": 4,
   "metadata": {},
   "outputs": [
    {
     "data": {
      "application/vnd.jupyter.widget-view+json": {
       "model_id": "3698086385a44787bf3af5decbde3590",
       "version_major": 2,
       "version_minor": 0
      },
      "text/plain": [
       "interactive(children=(Dropdown(description='table', options=('Random Forest: Original', 'CNN: Original & Kerne…"
      ]
     },
     "metadata": {},
     "output_type": "display_data"
    }
   ],
   "source": [
    "interactive(view1, table=w1)"
   ]
  },
  {
   "cell_type": "markdown",
   "metadata": {},
   "source": [
    "## Augmented Dataset"
   ]
  },
  {
   "cell_type": "code",
   "execution_count": 5,
   "metadata": {},
   "outputs": [
    {
     "data": {
      "application/vnd.jupyter.widget-view+json": {
       "model_id": "063eab037bab4869bc6de3417bd122f5",
       "version_major": 2,
       "version_minor": 0
      },
      "text/plain": [
       "interactive(children=(Dropdown(description='table', options=('Random Forest: Augmented', 'CNN: Augmented & Ker…"
      ]
     },
     "metadata": {},
     "output_type": "display_data"
    }
   ],
   "source": [
    "interactive(view2, table=w2)"
   ]
  },
  {
   "cell_type": "code",
   "execution_count": null,
   "metadata": {},
   "outputs": [],
   "source": []
  }
 ],
 "metadata": {
  "kernelspec": {
   "display_name": "Python 3",
   "language": "python",
   "name": "python3"
  },
  "language_info": {
   "codemirror_mode": {
    "name": "ipython",
    "version": 3
   },
   "file_extension": ".py",
   "mimetype": "text/x-python",
   "name": "python",
   "nbconvert_exporter": "python",
   "pygments_lexer": "ipython3",
   "version": "3.6.9"
  }
 },
 "nbformat": 4,
 "nbformat_minor": 4
}
